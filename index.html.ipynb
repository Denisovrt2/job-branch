def merge(values):
    result = []
    result.append(values[0])
    for i in values[1:]:
        result.update(i)
    return result
    