def merge(values):
    result = {}
    for i in values:
        for k, v in i.items():
             result.setdefault(k, set()).add(v)
        result.update(i)
    