{
 "cells": [
  {
   "cell_type": "code",
   "execution_count": 3,
   "metadata": {},
   "outputs": [
    {
     "ename": "SyntaxError",
     "evalue": "f-string: expecting '}' (2387425359.py, line 4)",
     "output_type": "error",
     "traceback": [
      "\u001b[0;36m  File \u001b[0;32m\"/var/folders/k1/zk066bvx76vb6dsqrq98mylm0000gn/T/ipykernel_6442/2387425359.py\"\u001b[0;36m, line \u001b[0;32m4\u001b[0m\n\u001b[0;31m    result = f'{''.join(random.sample(string.ascii_uppercase,2))}{random.randrange(100)}_{random.randrange(100)}{''.join(random.sample(string.ascii_uppercase,2))}'\u001b[0m\n\u001b[0m                                                                                                                                                                   ^\u001b[0m\n\u001b[0;31mSyntaxError\u001b[0m\u001b[0;31m:\u001b[0m f-string: expecting '}'\n"
     ]
    }
   ],
   "source": [
    "import random\n",
    "import string\n",
    "def generate_index():\n",
    "    result = f'{''.join(random.sample(string.ascii_uppercase,2))}{random.randrange(100)}_{random.randrange(100)}{''.join(random.sample(string.ascii_uppercase,2))}'\n",
    "    return result\n",
    "\n",
    "print(generate_index())\n",
    "\n"
   ]
  },
  {
   "cell_type": "code",
   "execution_count": 32,
   "metadata": {},
   "outputs": [
    {
     "name": "stdout",
     "output_type": "stream",
     "text": [
      "[4321756, 4450831, 4269047, 4218567, 4308215, 4630415, 4876021, 4589273, 4139840, 4729305, 4890176, 4948652, 4937840, 4526703, 4539840, 4063194, 4615423, 4174825, 4362759, 4984136, 4537641, 4174896, 4785491, 4260351, 4941287, 4196450, 4085162, 4062451, 4461358, 4862743, 4473108, 4819052, 4481935, 4059316, 4618709, 4619784, 4251468, 4541963, 4924170, 4310965, 4053984, 4371465, 4749326, 4261305, 4164893, 4209584, 4805769, 4815946, 4436809, 4821637, 4759230, 4630245, 4208965, 4268390, 4012573, 4108592, 4967413, 4609871, 4234195, 4287569, 4085271, 4479365, 4125874, 4756324, 4618249, 4695310, 4426917, 4201378, 4586120, 4350792, 4492561, 4650781, 4357094, 4931465, 4350642, 4365701, 4486791, 4694235, 4564721, 4597608, 4837425, 4975642, 4564978, 4946703, 4783064, 4867910, 4819642, 4438106, 4560473, 4341056, 4159048, 4564128, 4260389, 4628901, 4578620, 4164385, 4264095, 4359867, 4280549, 4507486]\n"
     ]
    }
   ],
   "source": [
    "import random\n",
    "import string\n",
    "result = []\n",
    "\n",
    "while len(result) < 100:\n",
    "    n = [4]\n",
    "    z = random.sample(string.digits,6)\n",
    "    n.extend(z)\n",
    "    combined_number = int(''.join(map(str, n)))\n",
    "    if combined_number not in result:\n",
    "        result.append(combined_number)\n",
    "    \n",
    "\n",
    "   \n",
    "\n",
    "print(result)"
   ]
  },
  {
   "cell_type": "code",
   "execution_count": 5,
   "metadata": {},
   "outputs": [
    {
     "name": "stdout",
     "output_type": "stream",
     "text": [
      "лапи\n"
     ]
    }
   ],
   "source": [
    "import random\n",
    "\n",
    "words = list(input())\n",
    "random.shuffle(words)\n",
    "\n",
    "print(''.join(words))\n"
   ]
  },
  {
   "cell_type": "code",
   "execution_count": 74,
   "metadata": {},
   "outputs": [
    {
     "name": "stdout",
     "output_type": "stream",
     "text": [
      "51  54  4   15  44 \n",
      "6   14  8   9   43 \n",
      "36  37  0   13  54 \n",
      "32  47  40  5   41 \n",
      "51  66  47  12  43 \n"
     ]
    }
   ],
   "source": [
    "import random\n",
    "matrix = []\n",
    "st = 5 // 2\n",
    "\n",
    "\n",
    "for i in range(5):\n",
    "    res = []\n",
    "    for j in range(5):\n",
    "        if i == st and j == st:\n",
    "            res.append(0)\n",
    "\n",
    "        else:\n",
    "            n = random.randint(1,75)\n",
    "            if n not in res:\n",
    "                res.append(n)\n",
    "            else:\n",
    "                res.append(random.randint(1, 75))\n",
    "    \n",
    "\n",
    "\n",
    "\n",
    "    if res not in matrix:\n",
    "        matrix.append(res)\n",
    "\n",
    "for i in matrix:\n",
    "    print(' '.join(str(x).ljust(3) for x in i))\n",
    "\n",
    "    "
   ]
  },
  {
   "cell_type": "code",
   "execution_count": 84,
   "metadata": {},
   "outputs": [
    {
     "name": "stdout",
     "output_type": "stream",
     "text": [
      "53  26  56  72  52 \n",
      "72  63  24  75  41 \n",
      "39  68  0   25  31 \n",
      "17  59  26  72  27 \n",
      "55  72  30  35  49 \n"
     ]
    }
   ],
   "source": [
    "import random\n",
    "matrix = []\n",
    "\n",
    "while len(matrix) != 5:\n",
    "    res = []\n",
    "    while len(res) != 5:\n",
    "        n = random.randint(1,75)\n",
    "        if n not in res:\n",
    "            res.append(n)\n",
    "        else:\n",
    "            continue\n",
    "    if res not in matrix:\n",
    "        matrix.append(res)\n",
    "    else:\n",
    "        continue\n",
    "\n",
    "st = 5 // 2\n",
    "matrix[st][st] = 0\n",
    "    \n",
    "for i in matrix:\n",
    "    print(' '.join(str(x).ljust(3) for x in i))\n",
    "\n"
   ]
  },
  {
   "cell_type": "code",
   "execution_count": 131,
   "metadata": {},
   "outputs": [
    {
     "name": "stdout",
     "output_type": "stream",
     "text": [
      "3   4   5   6   7  \n",
      "8   11  13  19  22 \n",
      "25  27  0   31  39 \n",
      "40  46  47  49  51 \n",
      "54  58  59  63  67 \n"
     ]
    }
   ],
   "source": [
    "import random\n",
    "import string\n",
    "\n",
    "dc = set()\n",
    "\n",
    "while len(dc) < 25: \n",
    "     dc.add(random.randint(1,72))\n",
    "\n",
    "my_list = list(dc)\n",
    "\n",
    "matrix = []\n",
    "s = 5\n",
    "for i in range(0,25,5):\n",
    "    matrix.append(my_list[i:i+5])\n",
    "\n",
    "matrix[2][2] = 0\n",
    "\n",
    "for i in matrix:\n",
    "     print(' '.join(str(x).ljust(3) for x in i))\n"
   ]
  },
  {
   "cell_type": "code",
   "execution_count": 134,
   "metadata": {},
   "outputs": [
    {
     "name": "stdout",
     "output_type": "stream",
     "text": [
      "[60, 35, 25, 48, 23, 54, 74, 24, 11, 17, 71, 72, 61, 18, 6, 16, 42, 30, 31, 69, 75, 37, 57, 39, 20]\n"
     ]
    }
   ],
   "source": [
    "from random import sample\n",
    "numbers = sample(range(1,76),25)\n",
    "print(numbers)"
   ]
  },
  {
   "cell_type": "code",
   "execution_count": 6,
   "metadata": {},
   "outputs": [
    {
     "name": "stdout",
     "output_type": "stream",
     "text": [
      "['Светлана Зуева - Борис Боков', 'Светлана Зуева - Аркадий Белых', 'Аркадий Белых - Борис Боков']\n"
     ]
    }
   ],
   "source": [
    "from random import *  \n",
    "n = 3\n",
    "st = ['Светлана Зуева', 'Аркадий Белых','Борис Боков']\n",
    "\n",
    "result = []\n",
    "\n",
    "while len(result) < 3:\n",
    "    st1 = choice(st)\n",
    "    st2 = choice(st)\n",
    "    if st1 != st2:\n",
    "        st3 = st1+' - '+st2\n",
    "        if st3 not in result:\n",
    "           result.append(st3)\n",
    "\n",
    "print(result)"
   ]
  },
  {
   "cell_type": "code",
   "execution_count": 94,
   "metadata": {},
   "outputs": [
    {
     "ename": "KeyboardInterrupt",
     "evalue": "",
     "output_type": "error",
     "traceback": [
      "\u001b[0;31m---------------------------------------------------------------------------\u001b[0m",
      "\u001b[0;31mKeyboardInterrupt\u001b[0m                         Traceback (most recent call last)",
      "\u001b[0;32m/var/folders/k1/zk066bvx76vb6dsqrq98mylm0000gn/T/ipykernel_3688/2752932397.py\u001b[0m in \u001b[0;36m<module>\u001b[0;34m\u001b[0m\n\u001b[1;32m      7\u001b[0m \u001b[0;32mwhile\u001b[0m \u001b[0mlen\u001b[0m\u001b[0;34m(\u001b[0m\u001b[0mresult\u001b[0m\u001b[0;34m)\u001b[0m \u001b[0;34m!=\u001b[0m \u001b[0;36m3\u001b[0m\u001b[0;34m:\u001b[0m\u001b[0;34m\u001b[0m\u001b[0;34m\u001b[0m\u001b[0m\n\u001b[1;32m      8\u001b[0m     \u001b[0;32mfor\u001b[0m \u001b[0mi\u001b[0m \u001b[0;32min\u001b[0m \u001b[0mst\u001b[0m\u001b[0;34m:\u001b[0m\u001b[0;34m\u001b[0m\u001b[0;34m\u001b[0m\u001b[0m\n\u001b[0;32m----> 9\u001b[0;31m         \u001b[0mst1\u001b[0m \u001b[0;34m=\u001b[0m \u001b[0mchoice\u001b[0m\u001b[0;34m(\u001b[0m\u001b[0mst\u001b[0m\u001b[0;34m)\u001b[0m\u001b[0;34m\u001b[0m\u001b[0;34m\u001b[0m\u001b[0m\n\u001b[0m\u001b[1;32m     10\u001b[0m         \u001b[0;32mif\u001b[0m \u001b[0mst1\u001b[0m \u001b[0;34m!=\u001b[0m \u001b[0mi\u001b[0m\u001b[0;34m:\u001b[0m\u001b[0;34m\u001b[0m\u001b[0;34m\u001b[0m\u001b[0m\n\u001b[1;32m     11\u001b[0m             \u001b[0mst3\u001b[0m \u001b[0;34m=\u001b[0m \u001b[0mi\u001b[0m \u001b[0;34m+\u001b[0m\u001b[0;34m' - '\u001b[0m\u001b[0;34m+\u001b[0m \u001b[0mst1\u001b[0m\u001b[0;34m\u001b[0m\u001b[0;34m\u001b[0m\u001b[0m\n",
      "\u001b[0;31mKeyboardInterrupt\u001b[0m: "
     ]
    }
   ],
   "source": [
    "from random import *  \n",
    "n = 3\n",
    "st = ['Светлана Зуева', 'Аркадий Белых','Борис Боков']\n",
    "\n",
    "result = []\n",
    "\n",
    "while len(result) != 3: \n",
    "    for i in st:\n",
    "        st1 = choice(st)\n",
    "        if st1 != i:\n",
    "            st3 = i +' - '+ st1\n",
    "            if st3 not in result:\n",
    "                result.append(st3)\n",
    "\n",
    "\n",
    "print(result)"
   ]
  },
  {
   "cell_type": "code",
   "execution_count": 115,
   "metadata": {},
   "outputs": [
    {
     "ename": "IndentationError",
     "evalue": "expected an indented block (248264892.py, line 19)",
     "output_type": "error",
     "traceback": [
      "\u001b[0;36m  File \u001b[0;32m\"/var/folders/k1/zk066bvx76vb6dsqrq98mylm0000gn/T/ipykernel_3688/248264892.py\"\u001b[0;36m, line \u001b[0;32m19\u001b[0m\n\u001b[0;31m    print(result)\u001b[0m\n\u001b[0m                 ^\u001b[0m\n\u001b[0;31mIndentationError\u001b[0m\u001b[0;31m:\u001b[0m expected an indented block\n"
     ]
    }
   ],
   "source": [
    "from random import *  \n",
    "n = 3\n",
    "st = {'Светлана Зуева': ' ', 'Аркадий Белых': ' ','Борис Боков':''}\n",
    "st2 = ['Светлана Зуева', 'Аркадий Белых','Борис Боков']\n",
    "st2.shuffle()\n",
    "result = []\n",
    "print(st2)\n",
    "\n",
    "st1 = choice(st)\n",
    "\n",
    "for k,v in st.items():\n",
    "    for i in st:\n",
    "        if i != k:\n",
    "           \n",
    "    \n",
    "\n",
    "\n",
    "\n",
    "print(result)"
   ]
  },
  {
   "cell_type": "code",
   "execution_count": 117,
   "metadata": {},
   "outputs": [
    {
     "ename": "AttributeError",
     "evalue": "'list' object has no attribute 'shuffle'",
     "output_type": "error",
     "traceback": [
      "\u001b[0;31m---------------------------------------------------------------------------\u001b[0m",
      "\u001b[0;31mAttributeError\u001b[0m                            Traceback (most recent call last)",
      "\u001b[0;32m/var/folders/k1/zk066bvx76vb6dsqrq98mylm0000gn/T/ipykernel_3688/787397514.py\u001b[0m in \u001b[0;36m<module>\u001b[0;34m\u001b[0m\n\u001b[1;32m      1\u001b[0m \u001b[0;32mfrom\u001b[0m \u001b[0mrandom\u001b[0m \u001b[0;32mimport\u001b[0m \u001b[0;34m*\u001b[0m\u001b[0;34m\u001b[0m\u001b[0;34m\u001b[0m\u001b[0m\n\u001b[1;32m      2\u001b[0m \u001b[0mst2\u001b[0m \u001b[0;34m=\u001b[0m \u001b[0;34m[\u001b[0m\u001b[0;34m'Светлана Зуева'\u001b[0m\u001b[0;34m,\u001b[0m \u001b[0;34m'Аркадий Белых'\u001b[0m\u001b[0;34m,\u001b[0m\u001b[0;34m'Борис Боков'\u001b[0m\u001b[0;34m]\u001b[0m\u001b[0;34m\u001b[0m\u001b[0;34m\u001b[0m\u001b[0m\n\u001b[0;32m----> 3\u001b[0;31m \u001b[0mst2\u001b[0m\u001b[0;34m.\u001b[0m\u001b[0mshuffle\u001b[0m\u001b[0;34m(\u001b[0m\u001b[0;34m)\u001b[0m\u001b[0;34m\u001b[0m\u001b[0;34m\u001b[0m\u001b[0m\n\u001b[0m\u001b[1;32m      4\u001b[0m \u001b[0mprint\u001b[0m\u001b[0;34m(\u001b[0m\u001b[0mst2\u001b[0m\u001b[0;34m)\u001b[0m\u001b[0;34m\u001b[0m\u001b[0;34m\u001b[0m\u001b[0m\n",
      "\u001b[0;31mAttributeError\u001b[0m: 'list' object has no attribute 'shuffle'"
     ]
    }
   ],
   "source": [
    "from random import * \n",
    "st2 = ['Светлана Зуева', 'Аркадий Белых','Борис Боков']\n",
    "st2.shuffle()\n",
    "print(st2)"
   ]
  },
  {
   "cell_type": "code",
   "execution_count": null,
   "metadata": {},
   "outputs": [],
   "source": []
  },
  {
   "cell_type": "code",
   "execution_count": null,
   "metadata": {},
   "outputs": [],
   "source": []
  }
 ],
 "metadata": {
  "kernelspec": {
   "display_name": "Python 3",
   "language": "python",
   "name": "python3"
  },
  "language_info": {
   "codemirror_mode": {
    "name": "ipython",
    "version": 3
   },
   "file_extension": ".py",
   "mimetype": "text/x-python",
   "name": "python",
   "nbconvert_exporter": "python",
   "pygments_lexer": "ipython3",
   "version": "3.9.13"
  }
 },
 "nbformat": 4,
 "nbformat_minor": 2
}
